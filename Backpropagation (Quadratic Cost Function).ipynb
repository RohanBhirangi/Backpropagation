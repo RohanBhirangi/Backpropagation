{
 "cells": [
  {
   "cell_type": "markdown",
   "metadata": {},
   "source": [
    "# Backpropagation (Quadratic Cost Function)"
   ]
  },
  {
   "cell_type": "code",
   "execution_count": 22,
   "metadata": {},
   "outputs": [],
   "source": [
    "import math\n",
    "import matplotlib.pyplot as plt\n",
    "import random"
   ]
  },
  {
   "cell_type": "markdown",
   "metadata": {},
   "source": [
    "### Define the transfer functions"
   ]
  },
  {
   "cell_type": "code",
   "execution_count": 23,
   "metadata": {},
   "outputs": [],
   "source": [
    "def transfer_function(x, x0):\n",
    "    return math.tanh(x/(2 * x0))\n",
    "\n",
    "def derivative_transfer_function(x, x0):\n",
    "    f = transfer_function(x, x0)\n",
    "    return (0.5 * (1 + f) * (1 - f))/x0"
   ]
  },
  {
   "cell_type": "markdown",
   "metadata": {},
   "source": [
    "### Define the number of neurons for the input and hidden layers<br/>Specify input neurons, target vector, learning rate and tolerance along with other parameters"
   ]
  },
  {
   "cell_type": "code",
   "execution_count": 24,
   "metadata": {},
   "outputs": [],
   "source": [
    "NumInputNeurons = 2\n",
    "NumHiddenNeurons = 2\n",
    "NumOutputNeurons = 1\n",
    "\n",
    "input_neurons = [[1, 1], [1, -1], [-1, 1], [-1, -1]]\n",
    "target_vector = [-1, 1, 1, -1]\n",
    "learning_rate = 0.2\n",
    "C = 1.0\n",
    "x0 = 1.0\n",
    "tolerance = 0.05"
   ]
  },
  {
   "cell_type": "markdown",
   "metadata": {},
   "source": [
    "### Initialize the weights and biases to hidden and output layers"
   ]
  },
  {
   "cell_type": "code",
   "execution_count": 25,
   "metadata": {},
   "outputs": [],
   "source": [
    "weights_hidden = []\n",
    "for i in range(NumInputNeurons):\n",
    "    weights = []\n",
    "    for j in range(NumHiddenNeurons):\n",
    "        weights.append(random.uniform(-C, C))\n",
    "    weights_hidden.append(weights)\n",
    "\n",
    "bias_hidden = []\n",
    "weights_output = []\n",
    "for i in range(NumHiddenNeurons):\n",
    "    bias_hidden.append(random.uniform(-C, C))\n",
    "    weights_output.append(random.uniform(-C, C))\n",
    "\n",
    "bias_output = random.uniform(-C, C)"
   ]
  },
  {
   "cell_type": "markdown",
   "metadata": {},
   "source": [
    "### Initialize output varibles for hidden and output layers"
   ]
  },
  {
   "cell_type": "code",
   "execution_count": 26,
   "metadata": {},
   "outputs": [],
   "source": [
    "z_in = []\n",
    "z = []\n",
    "delta_hidden = []\n",
    "for i in range(NumHiddenNeurons):\n",
    "    z_in.append(0.0)\n",
    "    z.append(0.0)\n",
    "    delta_hidden.append(0.0)\n",
    "\n",
    "delta_output = 0.0\n",
    "\n",
    "y_in = 0.0\n",
    "y = 0.0"
   ]
  },
  {
   "cell_type": "markdown",
   "metadata": {},
   "source": [
    "### Run the Backpropagation algorithm for the specified number of epochs or until the termination condition is satisfied"
   ]
  },
  {
   "cell_type": "code",
   "execution_count": 27,
   "metadata": {
    "scrolled": false
   },
   "outputs": [
    {
     "name": "stdout",
     "output_type": "stream",
     "text": [
      "298\n"
     ]
    }
   ],
   "source": [
    "squared_errors = []\n",
    "\n",
    "epochs = 100000\n",
    "for epoch in range(epochs):\n",
    "    squared_error = 0\n",
    "    for input_index in range(len(input_neurons)):\n",
    "        weights_hidden_delta = []\n",
    "        for i in range(NumInputNeurons):\n",
    "            weights = []\n",
    "            for j in range(NumHiddenNeurons):\n",
    "                weights.append(0.0)\n",
    "            weights_hidden_delta.append(weights)\n",
    "\n",
    "        bias_hidden_delta = []\n",
    "        weights_output_delta = []\n",
    "        for i in range(NumHiddenNeurons):\n",
    "            bias_hidden_delta.append(0.0)\n",
    "            weights_output_delta.append(0.0)\n",
    "\n",
    "        bias_output_delta = 0.0\n",
    "\n",
    "        for i in range(NumHiddenNeurons):\n",
    "            z_in[i] = bias_hidden[i]\n",
    "            for j in range(NumInputNeurons):\n",
    "                z_in[i] = z_in[i] + (weights_hidden[j][i] * input_neurons[input_index][j])\n",
    "            z[i] = transfer_function(z_in[i], 1)\n",
    "\n",
    "        y_in = bias_output\n",
    "        for i in range(NumHiddenNeurons):\n",
    "            y_in = y_in + (weights_output[i] * z[i])\n",
    "        y = transfer_function(y_in, 1)\n",
    "\n",
    "        error = y - target_vector[input_index]\n",
    "        squared_error = squared_error + math.pow(error, 2)\n",
    "\n",
    "        delta_output = (y - target_vector[input_index]) * derivative_transfer_function(y_in, 1)\n",
    "        for i in range(NumHiddenNeurons):\n",
    "            weights_output_delta[i] = learning_rate * delta_output * z[i]\n",
    "            delta_hidden[i] = delta_output * weights_output[i] * derivative_transfer_function(z_in[i], 1)\n",
    "        bias_output_delta = learning_rate * delta_output\n",
    "\n",
    "        for i in range(NumHiddenNeurons):\n",
    "            for j in range(NumInputNeurons):\n",
    "                weights_hidden_delta[j][i] = learning_rate * delta_hidden[i] * input_neurons[input_index][j]\n",
    "            bias_hidden_delta[i] = learning_rate * delta_hidden[i]\n",
    "\n",
    "        for i in range(NumHiddenNeurons):\n",
    "            weights_output[i] = weights_output[i] - weights_output_delta[i]\n",
    "        bias_output = bias_output - bias_output_delta\n",
    "\n",
    "        for i in range(NumHiddenNeurons):\n",
    "            for j in range(NumInputNeurons):\n",
    "                weights_hidden[j][i] = weights_hidden[j][i] - weights_hidden_delta[j][i]\n",
    "            bias_hidden[i] = bias_hidden[i] - bias_hidden_delta[i]\n",
    "\n",
    "    squared_errors.append(squared_error)\n",
    "    if squared_error < tolerance:\n",
    "        print (epoch+1)\n",
    "        break"
   ]
  },
  {
   "cell_type": "markdown",
   "metadata": {
    "collapsed": true
   },
   "source": [
    "### Plot the graph of total error vs epochs"
   ]
  },
  {
   "cell_type": "code",
   "execution_count": 28,
   "metadata": {},
   "outputs": [
    {
     "data": {
      "image/png": "[encoded data removed]",
      "text/plain": [
       "<matplotlib.figure.Figure at 0x10f2f8908>"
      ]
     },
     "metadata": {},
     "output_type": "display_data"
    }
   ],
   "source": [
    "num_epoch = []\n",
    "for i in range(len(squared_errors)):\n",
    "    num_epoch.append(i)\n",
    "\n",
    "plt.figure(figsize=(20, 10))\n",
    "plt.plot(num_epoch, squared_errors)\n",
    "plt.ylabel(\"Error\")\n",
    "plt.xlabel(\"Number of Epochs\")\n",
    "plt.margins(0)\n",
    "plt.show()"
   ]
  },
  {
   "cell_type": "code",
   "execution_count": null,
   "metadata": {},
   "outputs": [],
   "source": []
  }
 ],
 "metadata": {
  "kernelspec": {
   "display_name": "Python 3",
   "language": "python",
   "name": "python3"
  },
  "language_info": {
   "codemirror_mode": {
    "name": "ipython",
    "version": 3
   },
   "file_extension": ".py",
   "mimetype": "text/x-python",
   "name": "python",
   "nbconvert_exporter": "python",
   "pygments_lexer": "ipython3",
   "version": "3.6.4"
  }
 },
 "nbformat": 4,
 "nbformat_minor": 2
}
