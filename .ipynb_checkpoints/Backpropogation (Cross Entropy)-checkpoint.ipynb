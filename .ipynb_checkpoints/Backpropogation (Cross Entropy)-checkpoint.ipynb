{
 "cells": [
  {
   "cell_type": "markdown",
   "metadata": {
    "collapsed": true
   },
   "source": [
    "# Backpropogation (Cross Entropy)"
   ]
  },
  {
   "cell_type": "code",
   "execution_count": 32,
   "metadata": {
    "collapsed": true
   },
   "outputs": [],
   "source": [
    "import copy\n",
    "import math\n",
    "import numpy as np\n",
    "import matplotlib.pyplot as plt\n",
    "import random"
   ]
  },
  {
   "cell_type": "code",
   "execution_count": 33,
   "metadata": {
    "collapsed": true
   },
   "outputs": [],
   "source": [
    "def transfer_function(x, x0):\n",
    "    return math.tanh(x/(2 * x0))\n",
    "\n",
    "def derivative_transfer_function(x, x0):\n",
    "    f = transfer_function(x, x0)\n",
    "    return (0.5 * (1 + f) * (1 - f))/x0"
   ]
  },
  {
   "cell_type": "code",
   "execution_count": 34,
   "metadata": {
    "collapsed": true
   },
   "outputs": [],
   "source": [
    "NumInputNeurons = 2\n",
    "NumHiddenNeurons = 4\n",
    "NumOutputNeurons = 1\n",
    "\n",
    "input_neurons = [[1, 1], [1, -1], [-1, 1], [-1, -1]]\n",
    "target_vector = [-1, 1, 1, -1]\n",
    "learning_rates = [0.1, 0.2, 0.3]\n",
    "Cs = [0.5, 1.0, 1.5]\n",
    "x0s = [0.5, 1.0, 1.5]\n",
    "tolerance = 0.05"
   ]
  },
  {
   "cell_type": "code",
   "execution_count": 35,
   "metadata": {
    "collapsed": true,
    "scrolled": false
   },
   "outputs": [],
   "source": [
    "# The commented portion was used to check initial weights for non converging runs\n",
    "\n",
    "def backpropogation(learning_rate, C, x0):\n",
    "    squared_errors = []\n",
    "    epochs = 100000\n",
    "    converge_epochs = []\n",
    "\n",
    "    for k in xrange(100):\n",
    "        converged = False\n",
    "\n",
    "#         weights_hidden = []\n",
    "#         for i in xrange(NumInputNeurons):\n",
    "#             weights = []\n",
    "#             for j in xrange(NumHiddenNeurons):\n",
    "#                 weights.append(random.uniform(-C, C))\n",
    "#             weights_hidden.append(weights)\n",
    "\n",
    "#         bias_hidden = []\n",
    "#         weights_output = []\n",
    "#         for i in xrange(NumHiddenNeurons):\n",
    "#             bias_hidden.append(random.uniform(-C, C))\n",
    "#             weights_output.append(random.uniform(-C, C))\n",
    "\n",
    "#         bias_output = random.uniform(-C, C)\n",
    "\n",
    "        weights_hidden = [[0.1970, 0.3191, -0.1448, 0.3594],\n",
    "                          [0.3099, 0.1904, -0.0347, -0.4861]]\n",
    "        bias_hidden = [-0.3378, 0.2771, 0.2859, -0.3329]\n",
    "\n",
    "        weights_output = [0.4919, -0.2913, -0.3979, 0.3581]\n",
    "        bias_output = -0.1401\n",
    "\n",
    "        z_in = []\n",
    "        z = []\n",
    "        delta_hidden = []\n",
    "        for i in xrange(NumHiddenNeurons):\n",
    "            z_in.append(0.0)\n",
    "            z.append(0.0)\n",
    "            delta_hidden.append(0.0)\n",
    "\n",
    "        delta_output = 0.0\n",
    "\n",
    "        y_in = 0.0\n",
    "        y = 0.0\n",
    "\n",
    "#         initial_weights_hidden = copy.deepcopy(weights_hidden)\n",
    "#         initial_bias_hidden = copy.deepcopy(bias_hidden)\n",
    "#         initial_weights_output = copy.deepcopy(weights_output)\n",
    "#         initial_bias_output = copy.deepcopy(bias_output)\n",
    "\n",
    "        for epoch in xrange(epochs):\n",
    "            squared_error = 0\n",
    "            for input_index in xrange(len(input_neurons)):\n",
    "                weights_hidden_delta = []\n",
    "                for i in xrange(NumInputNeurons):\n",
    "                    weights = []\n",
    "                    for j in xrange(NumHiddenNeurons):\n",
    "                        weights.append(0.0)\n",
    "                    weights_hidden_delta.append(weights)\n",
    "\n",
    "                bias_hidden_delta = []\n",
    "                weights_output_delta = []\n",
    "                for i in xrange(NumHiddenNeurons):\n",
    "                    bias_hidden_delta.append(0.0)\n",
    "                    weights_output_delta.append(0.0)\n",
    "\n",
    "                bias_output_delta = 0.0\n",
    "\n",
    "                for i in xrange(NumHiddenNeurons):\n",
    "                    z_in[i] = bias_hidden[i]\n",
    "                    for j in xrange(NumInputNeurons):\n",
    "                        z_in[i] = z_in[i] + (weights_hidden[j][i] * input_neurons[input_index][j])\n",
    "                    z[i] = transfer_function(z_in[i], x0)\n",
    "\n",
    "                y_in = bias_output\n",
    "                for i in xrange(NumHiddenNeurons):\n",
    "                    y_in = y_in + (weights_output[i] * z[i])\n",
    "                y = transfer_function(y_in, x0)\n",
    "\n",
    "                error = y - target_vector[input_index]\n",
    "                squared_error = squared_error + math.pow(error, 2)\n",
    "\n",
    "                delta_output = (-2 / (y + target_vector[input_index])) * derivative_transfer_function(y_in, x0)\n",
    "                for i in xrange(NumHiddenNeurons):\n",
    "                    weights_output_delta[i] = learning_rate * delta_output * z[i]\n",
    "                    delta_hidden[i] = delta_output * weights_output[i] * derivative_transfer_function(z_in[i], x0)\n",
    "                bias_output_delta = learning_rate * delta_output\n",
    "\n",
    "                for i in xrange(NumHiddenNeurons):\n",
    "                    for j in xrange(NumInputNeurons):\n",
    "                        weights_hidden_delta[j][i] = learning_rate * delta_hidden[i] * input_neurons[input_index][j]\n",
    "                    bias_hidden_delta[i] = learning_rate * delta_hidden[i]\n",
    "\n",
    "                for i in xrange(NumHiddenNeurons):\n",
    "                    weights_output[i] = weights_output[i] - weights_output_delta[i]\n",
    "                bias_output = bias_output - bias_output_delta\n",
    "\n",
    "                for i in xrange(NumHiddenNeurons):\n",
    "                    for j in xrange(NumInputNeurons):\n",
    "                        weights_hidden[j][i] = weights_hidden[j][i] - weights_hidden_delta[j][i]\n",
    "                    bias_hidden[i] = bias_hidden[i] - bias_hidden_delta[i]\n",
    "\n",
    "            squared_errors.append(squared_error)\n",
    "            if squared_error < tolerance:\n",
    "                converged = True\n",
    "                converge_epochs.append(epoch+1)\n",
    "                print (epoch+1)\n",
    "                break\n",
    "        if not converged:\n",
    "            print 0\n",
    "#             print \"{},{},{},{},{},{},{}\\n{},{}\".format(\n",
    "#                 initial_weights_hidden[0][0], initial_weights_hidden[0][1],\n",
    "#                 initial_bias_hidden[0], initial_bias_hidden[1],\n",
    "#                 initial_weights_output[0], initial_weights_output[1],\n",
    "#                 initial_bias_output,\n",
    "#                 initial_weights_hidden[1][0], initial_weights_hidden[1][1])\n",
    "#             print \"{},{},{},{},{},{},{},{},{},{},{},{},{}\\n{},{},{},{}\".format(\n",
    "#                 initial_weights_hidden[0][0], initial_weights_hidden[0][1], initial_weights_hidden[0][2], initial_weights_hidden[0][3],\n",
    "#                 initial_bias_hidden[0], initial_bias_hidden[1], initial_bias_hidden[2], initial_bias_hidden[3],\n",
    "#                 initial_weights_output[0], initial_weights_output[1], initial_weights_output[2], initial_weights_output[3],\n",
    "#                 initial_bias_output,\n",
    "#                 initial_weights_hidden[1][0], initial_weights_hidden[1][1], initial_weights_hidden[1][2], initial_weights_hidden[1][3])\n",
    "#             print \"{},{},{},{},{},{},{},{},{},{},{},{},{},{},{},{},{},{},{}\\n{},{},{},{},{},{}\".format(\n",
    "#                 initial_weights_hidden[0][0], initial_weights_hidden[0][1], initial_weights_hidden[0][2], initial_weights_hidden[0][3], initial_weights_hidden[0][4], initial_weights_hidden[0][5],\n",
    "#                 initial_bias_hidden[0], initial_bias_hidden[1], initial_bias_hidden[2], initial_bias_hidden[3], initial_bias_hidden[4], initial_bias_hidden[5],\n",
    "#                 initial_weights_output[0], initial_weights_output[1], initial_weights_output[2], initial_weights_output[3], initial_weights_output[4], initial_weights_output[5],\n",
    "#                 initial_bias_output,\n",
    "#                 initial_weights_hidden[1][0], initial_weights_hidden[1][1], initial_weights_hidden[1][2], initial_weights_hidden[1][3], initial_weights_hidden[1][4], initial_weights_hidden[1][5])\n",
    "#             print \"{},{},{},{},{},{},{},{},{},{},{},{},{},{},{},{},{},{},{},{},{},{},{},{},{}\\n{},{},{},{},{},{},{},{}\".format(\n",
    "#                 initial_weights_hidden[0][0], initial_weights_hidden[0][1], initial_weights_hidden[0][2], initial_weights_hidden[0][3], initial_weights_hidden[0][4], initial_weights_hidden[0][5], initial_weights_hidden[0][6], initial_weights_hidden[0][7],\n",
    "#                 initial_bias_hidden[0], initial_bias_hidden[1], initial_bias_hidden[2], initial_bias_hidden[3], initial_bias_hidden[4], initial_bias_hidden[5], initial_bias_hidden[6], initial_bias_hidden[7],\n",
    "#                 initial_weights_output[0], initial_weights_output[1], initial_weights_output[2], initial_weights_output[3], initial_weights_output[4], initial_weights_output[5], initial_weights_output[6], initial_weights_output[7],\n",
    "#                 initial_bias_output,\n",
    "#                 initial_weights_hidden[1][0], initial_weights_hidden[1][1], initial_weights_hidden[1][2], initial_weights_hidden[1][3], initial_weights_hidden[1][4], initial_weights_hidden[1][5], initial_weights_hidden[1][6], initial_weights_hidden[1][7])\n",
    "#             print \"{},{},{},{},{},{},{},{},{},{},{},{},{},{},{},{},{},{},{},{},{},{},{},{},{},{},{},{},{},{},{}\\n{},{},{},{},{},{},{},{},{},{}\".format(\n",
    "#                 initial_weights_hidden[0][0], initial_weights_hidden[0][1], initial_weights_hidden[0][2], initial_weights_hidden[0][3], initial_weights_hidden[0][4], initial_weights_hidden[0][5], initial_weights_hidden[0][6], initial_weights_hidden[0][7], initial_weights_hidden[0][8], initial_weights_hidden[0][9],\n",
    "#                 initial_bias_hidden[0], initial_bias_hidden[1], initial_bias_hidden[2], initial_bias_hidden[3], initial_bias_hidden[4], initial_bias_hidden[5], initial_bias_hidden[6], initial_bias_hidden[7], initial_bias_hidden[8], initial_bias_hidden[9],\n",
    "#                 initial_weights_output[0], initial_weights_output[1], initial_weights_output[2], initial_weights_output[3], initial_weights_output[4], initial_weights_output[5], initial_weights_output[6], initial_weights_output[7], initial_weights_output[8], initial_weights_output[9],\n",
    "#                 initial_bias_output,\n",
    "#                 initial_weights_hidden[1][0], initial_weights_hidden[1][1], initial_weights_hidden[1][2], initial_weights_hidden[1][3], initial_weights_hidden[1][4], initial_weights_hidden[1][5], initial_weights_hidden[1][6], initial_weights_hidden[1][7], initial_weights_hidden[1][8], initial_weights_hidden[1][9])\n",
    "\n",
    "    print \"Times converged: \" + str(len(converge_epochs))\n",
    "    print \"Times not converged: \" + str(100-len(converge_epochs))\n",
    "    print \"Average epochs: \" + str(np.mean(converge_epochs))\n",
    "    print \"Median epochs: \" + str(np.median(converge_epochs))"
   ]
  },
  {
   "cell_type": "code",
   "execution_count": 32,
   "metadata": {
    "collapsed": true
   },
   "outputs": [],
   "source": [
    "for learning_rate in learning_rates:\n",
    "    for C in Cs:\n",
    "        for x0 in x0s:\n",
    "            print str(learning_rate) + \"\\t\" + str(C) + \"\\t\" + str(x0)\n",
    "            backpropogation(learning_rate, C, x0)\n",
    "            print \"\\n\""
   ]
  },
  {
   "cell_type": "code",
   "execution_count": null,
   "metadata": {
    "collapsed": true
   },
   "outputs": [],
   "source": []
  }
 ],
 "metadata": {
  "kernelspec": {
   "display_name": "Python 2",
   "language": "python",
   "name": "python2"
  },
  "language_info": {
   "codemirror_mode": {
    "name": "ipython",
    "version": 2
   },
   "file_extension": ".py",
   "mimetype": "text/x-python",
   "name": "python",
   "nbconvert_exporter": "python",
   "pygments_lexer": "ipython2",
   "version": "2.7.13"
  }
 },
 "nbformat": 4,
 "nbformat_minor": 2
}
