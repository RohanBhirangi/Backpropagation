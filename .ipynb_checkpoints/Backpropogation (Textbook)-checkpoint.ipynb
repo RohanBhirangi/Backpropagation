{
 "cells": [
  {
   "cell_type": "markdown",
   "metadata": {},
   "source": [
    "# Backpropogation (Textbook)"
   ]
  },
  {
   "cell_type": "code",
   "execution_count": 13,
   "metadata": {
    "collapsed": true
   },
   "outputs": [],
   "source": [
    "import math\n",
    "import matplotlib.pyplot as plt"
   ]
  },
  {
   "cell_type": "markdown",
   "metadata": {},
   "source": [
    "### Define the transfer functions"
   ]
  },
  {
   "cell_type": "code",
   "execution_count": 14,
   "metadata": {
    "collapsed": true
   },
   "outputs": [],
   "source": [
    "def transfer_function(x, x0):\n",
    "#     return ((2 / (1 + math.exp(-x))) - 1)\n",
    "    return math.tanh(x/(2 * x0))\n",
    "\n",
    "def derivative_transfer_function(x, x0):\n",
    "    f = transfer_function(x, x0)\n",
    "    return (0.5 * (1 + f) * (1 - f))/x0"
   ]
  },
  {
   "cell_type": "markdown",
   "metadata": {},
   "source": [
    "### Define the number of neurons for the input and hidden layers<br/>Specify input neurons, target vector, learning rate and tolerance"
   ]
  },
  {
   "cell_type": "code",
   "execution_count": 15,
   "metadata": {
    "collapsed": true
   },
   "outputs": [],
   "source": [
    "NumInputNeurons = 2\n",
    "NumHiddenNeurons = 4\n",
    "NumOutputNeurons = 1\n",
    "\n",
    "# input_neurons = [[-1, -1], [-1, 1], [1, -1], [1, 1]]\n",
    "# target_vector = [-1, 1, 1 ,-1]\n",
    "input_neurons = [[1, 1], [1, -1], [-1, 1], [-1, -1]]\n",
    "target_vector = [-1, 1, 1, -1]\n",
    "# target_vector = [-0.8, 0.8, 0.8, -0.8]\n",
    "learning_rate = 0.2\n",
    "tolerance = 0.05"
   ]
  },
  {
   "cell_type": "markdown",
   "metadata": {},
   "source": [
    "### Initialize the weights and biases to hidden and output layers"
   ]
  },
  {
   "cell_type": "code",
   "execution_count": 16,
   "metadata": {
    "collapsed": true
   },
   "outputs": [],
   "source": [
    "\"\"\"\n",
    "weights_hidden = []\n",
    "for i in xrange(NumInputNeurons):\n",
    "    weights = []\n",
    "    for j in xrange(NumHiddenNeurons):\n",
    "        weights.append(0.0)\n",
    "    weights_hidden.append(weights)\n",
    "\n",
    "bias_hidden = []\n",
    "weights_output = []\n",
    "for i in xrange(NumHiddenNeurons):\n",
    "    bias_hidden.append(0.0)\n",
    "    weights_output.append(0.0)\n",
    "\n",
    "bias_output = 0.0\n",
    "\"\"\"\n",
    "\n",
    "weights_hidden = [[0.1970, 0.3191, -0.1448, 0.3594],\n",
    "                  [0.3099, 0.1904, -0.0347, -0.4861]]\n",
    "bias_hidden = [-0.3378, 0.2771, 0.2859, -0.3329]\n",
    "\n",
    "weights_output = [0.4919, -0.2913, -0.3979, 0.3581]\n",
    "bias_output = -0.1401"
   ]
  },
  {
   "cell_type": "markdown",
   "metadata": {},
   "source": [
    "### Initialize output varibles for hidden and output layers"
   ]
  },
  {
   "cell_type": "code",
   "execution_count": 17,
   "metadata": {
    "collapsed": true
   },
   "outputs": [],
   "source": [
    "z_in = []\n",
    "z = []\n",
    "delta_hidden = []\n",
    "for i in xrange(NumHiddenNeurons):\n",
    "    z_in.append(0.0)\n",
    "    z.append(0.0)\n",
    "    delta_hidden.append(0.0)\n",
    "\n",
    "delta_output = 0.0\n",
    "\n",
    "y_in = 0.0\n",
    "y = 0.0"
   ]
  },
  {
   "cell_type": "markdown",
   "metadata": {},
   "source": [
    "### Run the backpropogation alogirthm for the specified number of epochs or until the termination condition is satisfied"
   ]
  },
  {
   "cell_type": "code",
   "execution_count": 18,
   "metadata": {
    "scrolled": false
   },
   "outputs": [
    {
     "name": "stdout",
     "output_type": "stream",
     "text": [
      "387\n"
     ]
    }
   ],
   "source": [
    "squared_errors = []\n",
    "\n",
    "epochs = 100000\n",
    "for epoch in xrange(epochs):\n",
    "    squared_error = 0\n",
    "    for input_index in xrange(len(input_neurons)):\n",
    "        weights_hidden_delta = []\n",
    "        for i in xrange(NumInputNeurons):\n",
    "            weights = []\n",
    "            for j in xrange(NumHiddenNeurons):\n",
    "                weights.append(0.0)\n",
    "            weights_hidden_delta.append(weights)\n",
    "\n",
    "        bias_hidden_delta = []\n",
    "        weights_output_delta = []\n",
    "        for i in xrange(NumHiddenNeurons):\n",
    "            bias_hidden_delta.append(0.0)\n",
    "            weights_output_delta.append(0.0)\n",
    "\n",
    "        bias_output_delta = 0.0\n",
    "\n",
    "        for i in xrange(NumHiddenNeurons):\n",
    "            z_in[i] = bias_hidden[i]\n",
    "            for j in xrange(NumInputNeurons):\n",
    "                z_in[i] = z_in[i] + (weights_hidden[j][i] * input_neurons[input_index][j])\n",
    "            z[i] = transfer_function(z_in[i], 1)\n",
    "\n",
    "        y_in = bias_output\n",
    "        for i in xrange(NumHiddenNeurons):\n",
    "            y_in = y_in + (weights_output[i] * z[i])\n",
    "        y = transfer_function(y_in, 1)\n",
    "\n",
    "        error = y - target_vector[input_index]\n",
    "        squared_error = squared_error + math.pow(error, 2)\n",
    "\n",
    "        delta_output = (y - target_vector[input_index]) * derivative_transfer_function(y_in, 1)\n",
    "        for i in xrange(NumHiddenNeurons):\n",
    "            weights_output_delta[i] = learning_rate * delta_output * z[i]\n",
    "            delta_hidden[i] = delta_output * weights_output[i] * derivative_transfer_function(z_in[i], 1)\n",
    "        bias_output_delta = learning_rate * delta_output\n",
    "\n",
    "        for i in xrange(NumHiddenNeurons):\n",
    "            for j in xrange(NumInputNeurons):\n",
    "                weights_hidden_delta[j][i] = learning_rate * delta_hidden[i] * input_neurons[input_index][j]\n",
    "            bias_hidden_delta[i] = learning_rate * delta_hidden[i]\n",
    "\n",
    "        for i in xrange(NumHiddenNeurons):\n",
    "            weights_output[i] = weights_output[i] - weights_output_delta[i]\n",
    "        bias_output = bias_output - bias_output_delta\n",
    "\n",
    "        for i in xrange(NumHiddenNeurons):\n",
    "            for j in xrange(NumInputNeurons):\n",
    "                weights_hidden[j][i] = weights_hidden[j][i] - weights_hidden_delta[j][i]\n",
    "            bias_hidden[i] = bias_hidden[i] - bias_hidden_delta[i]\n",
    "\n",
    "    squared_errors.append(squared_error)\n",
    "    if squared_error < tolerance:\n",
    "        print (epoch+1)\n",
    "        break"
   ]
  },
  {
   "cell_type": "markdown",
   "metadata": {},
   "source": [
    "### Plot the graph of squared error vs epochs"
   ]
  },
  {
   "cell_type": "code",
   "execution_count": 19,
   "metadata": {
    "scrolled": false
   },
   "outputs": [
    {
     "data": {
      "image/png": "[encoded data removed]",
      "text/plain": [
       "<matplotlib.figure.Figure at 0x10d2a2550>"
      ]
     },
     "metadata": {},
     "output_type": "display_data"
    }
   ],
   "source": [
    "num_epoch = []\n",
    "for i in xrange(len(squared_errors)):\n",
    "    num_epoch.append(i)\n",
    "\n",
    "plt.figure(figsize=(20, 10))\n",
    "plt.plot(num_epoch, squared_errors)\n",
    "plt.ylabel(\"Error\")\n",
    "plt.xlabel(\"Number of Epochs\")\n",
    "plt.margins(0)\n",
    "plt.show()"
   ]
  },
  {
   "cell_type": "code",
   "execution_count": null,
   "metadata": {
    "collapsed": true
   },
   "outputs": [],
   "source": []
  }
 ],
 "metadata": {
  "kernelspec": {
   "display_name": "Python 3",
   "language": "python",
   "name": "python3"
  },
  "language_info": {
   "codemirror_mode": {
    "name": "ipython",
    "version": 3
   },
   "file_extension": ".py",
   "mimetype": "text/x-python",
   "name": "python",
   "nbconvert_exporter": "python",
   "pygments_lexer": "ipython3",
   "version": "3.6.4"
  }
 },
 "nbformat": 4,
 "nbformat_minor": 2
}
